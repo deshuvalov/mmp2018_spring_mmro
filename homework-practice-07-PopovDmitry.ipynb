{
 "cells": [
  {
   "cell_type": "markdown",
   "metadata": {},
   "source": [
    "# Машинное обучение, ВМК МГУ\n",
    "\n",
    "## Практическое задание 7. Градиентный бустинг ~~своими руками~~\n",
    "\n",
    "### Общая информация\n",
    "Дата выдачи: 05.03.2019\n",
    "\n",
    "Мягкий дедлайн: 23:59MSK 14.03.2019\n",
    "\n",
    "Жесткий дедлайн: 23:59MSK 17.03.2019\n",
    "\n",
    "**Выполнил: Попов Дмитрий**, группа 317\n",
    "\n",
    "### Оценивание и штрафы\n",
    "Каждая из задач имеет определенную «стоимость» (указана в скобках около задачи). Максимально допустимая оценка за работу — 10 баллов.\n",
    "\n",
    "Сдавать задание после указанного срока сдачи нельзя. При выставлении неполного балла за задание в связи с наличием ошибок на усмотрение проверяющего предусмотрена возможность исправить работу на указанных в ответном письме условиях.\n",
    "\n",
    "Задание выполняется самостоятельно. «Похожие» решения считаются плагиатом и все задействованные студенты (в том числе те, у кого списали) не могут получить за него больше 0 баллов (подробнее о плагиате см. на странице курса). Если вы нашли решение какого-то из заданий (или его часть) в открытом источнике, необходимо указать ссылку на этот источник в отдельном блоке в конце вашей работы (скорее всего вы будете не единственным, кто это нашел, поэтому чтобы исключить подозрение в плагиате, необходима ссылка на источник).\n",
    "\n",
    "Неэффективная реализация кода может негативно отразиться на оценке.\n",
    "\n",
    "### Формат сдачи\n",
    "Задания сдаются через систему anytask. Посылка должна содержать:\n",
    "* Ноутбук homework-practice-07-Username.ipynb\n",
    "\n",
    "Username — ваша фамилия и имя на латинице именно в таком порядке"
   ]
  },
  {
   "cell_type": "markdown",
   "metadata": {},
   "source": [
    "__Задание 1. (0.5 балла)__\n",
    "\n",
    "Мы будем использовать данные соревнования [Home Credit Default Risk](https://www.kaggle.com/c/home-credit-default-risk/data). \n",
    "* Загрузите таблицу application_train.csv;\n",
    "* Запишите в Y столбец с целевой переменной;\n",
    "* Удалите ненужные столбцы (для этого воспользуйтесь описанием);\n",
    "* Определите тип столбцов и заполните пропуски - стратегия произвольная;\n",
    "* Разбейте выборку в соотношении 70:30 с random_state=0.\n",
    "\n",
    "Так как в данных значительный дисбаланс классов, в качестве метрики качества везде будем использовать площадь под precision-recall кривой."
   ]
  },
  {
   "cell_type": "code",
   "execution_count": 1,
   "metadata": {},
   "outputs": [],
   "source": [
    "### ╰( ͡° ͜ʖ ͡° )つ──☆*:・ﾟ\n",
    "import pandas as pd"
   ]
  },
  {
   "cell_type": "code",
   "execution_count": 2,
   "metadata": {},
   "outputs": [],
   "source": [
    "df = pd.read_csv(\"application_train.csv\")"
   ]
  },
  {
   "cell_type": "code",
   "execution_count": 3,
   "metadata": {
    "scrolled": true
   },
   "outputs": [
    {
     "name": "stdout",
     "output_type": "stream",
     "text": [
      "['SK_ID_CURR' 'TARGET' 'NAME_CONTRACT_TYPE' 'CODE_GENDER' 'FLAG_OWN_CAR'\n",
      " 'FLAG_OWN_REALTY' 'CNT_CHILDREN' 'AMT_INCOME_TOTAL' 'AMT_CREDIT'\n",
      " 'AMT_ANNUITY' 'AMT_GOODS_PRICE' 'NAME_TYPE_SUITE' 'NAME_INCOME_TYPE'\n",
      " 'NAME_EDUCATION_TYPE' 'NAME_FAMILY_STATUS' 'NAME_HOUSING_TYPE'\n",
      " 'REGION_POPULATION_RELATIVE' 'DAYS_BIRTH' 'DAYS_EMPLOYED'\n",
      " 'DAYS_REGISTRATION' 'DAYS_ID_PUBLISH' 'OWN_CAR_AGE' 'FLAG_MOBIL'\n",
      " 'FLAG_EMP_PHONE' 'FLAG_WORK_PHONE' 'FLAG_CONT_MOBILE' 'FLAG_PHONE'\n",
      " 'FLAG_EMAIL' 'OCCUPATION_TYPE' 'CNT_FAM_MEMBERS' 'REGION_RATING_CLIENT'\n",
      " 'REGION_RATING_CLIENT_W_CITY' 'WEEKDAY_APPR_PROCESS_START'\n",
      " 'HOUR_APPR_PROCESS_START' 'REG_REGION_NOT_LIVE_REGION'\n",
      " 'REG_REGION_NOT_WORK_REGION' 'LIVE_REGION_NOT_WORK_REGION'\n",
      " 'REG_CITY_NOT_LIVE_CITY' 'REG_CITY_NOT_WORK_CITY'\n",
      " 'LIVE_CITY_NOT_WORK_CITY' 'ORGANIZATION_TYPE' 'EXT_SOURCE_1'\n",
      " 'EXT_SOURCE_2' 'EXT_SOURCE_3' 'APARTMENTS_AVG' 'BASEMENTAREA_AVG'\n",
      " 'YEARS_BEGINEXPLUATATION_AVG' 'YEARS_BUILD_AVG' 'COMMONAREA_AVG'\n",
      " 'ELEVATORS_AVG' 'ENTRANCES_AVG' 'FLOORSMAX_AVG' 'FLOORSMIN_AVG'\n",
      " 'LANDAREA_AVG' 'LIVINGAPARTMENTS_AVG' 'LIVINGAREA_AVG'\n",
      " 'NONLIVINGAPARTMENTS_AVG' 'NONLIVINGAREA_AVG' 'APARTMENTS_MODE'\n",
      " 'BASEMENTAREA_MODE' 'YEARS_BEGINEXPLUATATION_MODE' 'YEARS_BUILD_MODE'\n",
      " 'COMMONAREA_MODE' 'ELEVATORS_MODE' 'ENTRANCES_MODE' 'FLOORSMAX_MODE'\n",
      " 'FLOORSMIN_MODE' 'LANDAREA_MODE' 'LIVINGAPARTMENTS_MODE'\n",
      " 'LIVINGAREA_MODE' 'NONLIVINGAPARTMENTS_MODE' 'NONLIVINGAREA_MODE'\n",
      " 'APARTMENTS_MEDI' 'BASEMENTAREA_MEDI' 'YEARS_BEGINEXPLUATATION_MEDI'\n",
      " 'YEARS_BUILD_MEDI' 'COMMONAREA_MEDI' 'ELEVATORS_MEDI' 'ENTRANCES_MEDI'\n",
      " 'FLOORSMAX_MEDI' 'FLOORSMIN_MEDI' 'LANDAREA_MEDI' 'LIVINGAPARTMENTS_MEDI'\n",
      " 'LIVINGAREA_MEDI' 'NONLIVINGAPARTMENTS_MEDI' 'NONLIVINGAREA_MEDI'\n",
      " 'FONDKAPREMONT_MODE' 'HOUSETYPE_MODE' 'TOTALAREA_MODE'\n",
      " 'WALLSMATERIAL_MODE' 'EMERGENCYSTATE_MODE' 'OBS_30_CNT_SOCIAL_CIRCLE'\n",
      " 'DEF_30_CNT_SOCIAL_CIRCLE' 'OBS_60_CNT_SOCIAL_CIRCLE'\n",
      " 'DEF_60_CNT_SOCIAL_CIRCLE' 'DAYS_LAST_PHONE_CHANGE' 'FLAG_DOCUMENT_2'\n",
      " 'FLAG_DOCUMENT_3' 'FLAG_DOCUMENT_4' 'FLAG_DOCUMENT_5' 'FLAG_DOCUMENT_6'\n",
      " 'FLAG_DOCUMENT_7' 'FLAG_DOCUMENT_8' 'FLAG_DOCUMENT_9' 'FLAG_DOCUMENT_10'\n",
      " 'FLAG_DOCUMENT_11' 'FLAG_DOCUMENT_12' 'FLAG_DOCUMENT_13'\n",
      " 'FLAG_DOCUMENT_14' 'FLAG_DOCUMENT_15' 'FLAG_DOCUMENT_16'\n",
      " 'FLAG_DOCUMENT_17' 'FLAG_DOCUMENT_18' 'FLAG_DOCUMENT_19'\n",
      " 'FLAG_DOCUMENT_20' 'FLAG_DOCUMENT_21' 'AMT_REQ_CREDIT_BUREAU_HOUR'\n",
      " 'AMT_REQ_CREDIT_BUREAU_DAY' 'AMT_REQ_CREDIT_BUREAU_WEEK'\n",
      " 'AMT_REQ_CREDIT_BUREAU_MON' 'AMT_REQ_CREDIT_BUREAU_QRT'\n",
      " 'AMT_REQ_CREDIT_BUREAU_YEAR']\n"
     ]
    }
   ],
   "source": [
    "print(df.columns.values)"
   ]
  },
  {
   "cell_type": "code",
   "execution_count": 4,
   "metadata": {
    "scrolled": true
   },
   "outputs": [
    {
     "name": "stdout",
     "output_type": "stream",
     "text": [
      "        SK_ID_CURR  TARGET NAME_CONTRACT_TYPE CODE_GENDER FLAG_OWN_CAR  \\\n",
      "0           100002       1         Cash loans           M            N   \n",
      "1           100003       0         Cash loans           F            N   \n",
      "2           100004       0    Revolving loans           M            Y   \n",
      "3           100006       0         Cash loans           F            N   \n",
      "4           100007       0         Cash loans           M            N   \n",
      "5           100008       0         Cash loans           M            N   \n",
      "...            ...     ...                ...         ...          ...   \n",
      "307505      456249       0         Cash loans           F            N   \n",
      "307506      456251       0         Cash loans           M            N   \n",
      "307507      456252       0         Cash loans           F            N   \n",
      "307508      456253       0         Cash loans           F            N   \n",
      "307509      456254       1         Cash loans           F            N   \n",
      "307510      456255       0         Cash loans           F            N   \n",
      "\n",
      "       FLAG_OWN_REALTY  CNT_CHILDREN  AMT_INCOME_TOTAL  AMT_CREDIT  \\\n",
      "0                    Y             0          202500.0    406597.5   \n",
      "1                    N             0          270000.0   1293502.5   \n",
      "2                    Y             0           67500.0    135000.0   \n",
      "3                    Y             0          135000.0    312682.5   \n",
      "4                    Y             0          121500.0    513000.0   \n",
      "5                    Y             0           99000.0    490495.5   \n",
      "...                ...           ...               ...         ...   \n",
      "307505               Y             0          112500.0    225000.0   \n",
      "307506               N             0          157500.0    254700.0   \n",
      "307507               Y             0           72000.0    269550.0   \n",
      "307508               Y             0          153000.0    677664.0   \n",
      "307509               Y             0          171000.0    370107.0   \n",
      "307510               N             0          157500.0    675000.0   \n",
      "\n",
      "        AMT_ANNUITY  AMT_GOODS_PRICE  NAME_TYPE_SUITE      NAME_INCOME_TYPE  \\\n",
      "0           24700.5         351000.0    Unaccompanied               Working   \n",
      "1           35698.5        1129500.0           Family         State servant   \n",
      "2            6750.0         135000.0    Unaccompanied               Working   \n",
      "3           29686.5         297000.0    Unaccompanied               Working   \n",
      "4           21865.5         513000.0    Unaccompanied               Working   \n",
      "5           27517.5         454500.0  Spouse, partner         State servant   \n",
      "...             ...              ...              ...                   ...   \n",
      "307505      22050.0         225000.0    Unaccompanied             Pensioner   \n",
      "307506      27558.0         225000.0    Unaccompanied               Working   \n",
      "307507      12001.5         225000.0    Unaccompanied             Pensioner   \n",
      "307508      29979.0         585000.0    Unaccompanied               Working   \n",
      "307509      20205.0         319500.0    Unaccompanied  Commercial associate   \n",
      "307510      49117.5         675000.0    Unaccompanied  Commercial associate   \n",
      "\n",
      "                  NAME_EDUCATION_TYPE    NAME_FAMILY_STATUS  \\\n",
      "0       Secondary / secondary special  Single / not married   \n",
      "1                    Higher education               Married   \n",
      "2       Secondary / secondary special  Single / not married   \n",
      "3       Secondary / secondary special        Civil marriage   \n",
      "4       Secondary / secondary special  Single / not married   \n",
      "5       Secondary / secondary special               Married   \n",
      "...                               ...                   ...   \n",
      "307505  Secondary / secondary special  Single / not married   \n",
      "307506  Secondary / secondary special             Separated   \n",
      "307507  Secondary / secondary special                 Widow   \n",
      "307508               Higher education             Separated   \n",
      "307509  Secondary / secondary special               Married   \n",
      "307510               Higher education               Married   \n",
      "\n",
      "        NAME_HOUSING_TYPE  REGION_POPULATION_RELATIVE  DAYS_BIRTH  \\\n",
      "0       House / apartment                    0.018801       -9461   \n",
      "1       House / apartment                    0.003541      -16765   \n",
      "2       House / apartment                    0.010032      -19046   \n",
      "3       House / apartment                    0.008019      -19005   \n",
      "4       House / apartment                    0.028663      -19932   \n",
      "5       House / apartment                    0.035792      -16941   \n",
      "...                   ...                         ...         ...   \n",
      "307505  House / apartment                    0.022800      -24384   \n",
      "307506       With parents                    0.032561       -9327   \n",
      "307507  House / apartment                    0.025164      -20775   \n",
      "307508  House / apartment                    0.005002      -14966   \n",
      "307509  House / apartment                    0.005313      -11961   \n",
      "307510  House / apartment                    0.046220      -16856   \n",
      "\n",
      "        DAYS_EMPLOYED  DAYS_REGISTRATION  DAYS_ID_PUBLISH  OWN_CAR_AGE  \\\n",
      "0                -637            -3648.0            -2120          NaN   \n",
      "1               -1188            -1186.0             -291          NaN   \n",
      "2                -225            -4260.0            -2531         26.0   \n",
      "3               -3039            -9833.0            -2437          NaN   \n",
      "4               -3038            -4311.0            -3458          NaN   \n",
      "5               -1588            -4970.0             -477          NaN   \n",
      "...               ...                ...              ...          ...   \n",
      "307505         365243            -7369.0            -2357          NaN   \n",
      "307506           -236            -8456.0            -1982          NaN   \n",
      "307507         365243            -4388.0            -4090          NaN   \n",
      "307508          -7921            -6737.0            -5150          NaN   \n",
      "307509          -4786            -2562.0             -931          NaN   \n",
      "307510          -1262            -5128.0             -410          NaN   \n",
      "\n",
      "        FLAG_MOBIL  FLAG_EMP_PHONE  FLAG_WORK_PHONE  FLAG_CONT_MOBILE  \\\n",
      "0                1               1                0                 1   \n",
      "1                1               1                0                 1   \n",
      "2                1               1                1                 1   \n",
      "3                1               1                0                 1   \n",
      "4                1               1                0                 1   \n",
      "5                1               1                1                 1   \n",
      "...            ...             ...              ...               ...   \n",
      "307505           1               0                0                 1   \n",
      "307506           1               1                0                 1   \n",
      "307507           1               0                0                 1   \n",
      "307508           1               1                0                 1   \n",
      "307509           1               1                0                 1   \n",
      "307510           1               1                1                 1   \n",
      "\n",
      "        FLAG_PHONE  FLAG_EMAIL OCCUPATION_TYPE  CNT_FAM_MEMBERS  \\\n",
      "0                1           0        Laborers              1.0   \n",
      "1                1           0      Core staff              2.0   \n",
      "2                1           0        Laborers              1.0   \n",
      "3                0           0        Laborers              2.0   \n",
      "4                0           0      Core staff              1.0   \n",
      "5                1           0        Laborers              2.0   \n",
      "...            ...         ...             ...              ...   \n",
      "307505           1           0             NaN              1.0   \n",
      "307506           0           0     Sales staff              1.0   \n",
      "307507           1           0             NaN              1.0   \n",
      "307508           0           1        Managers              1.0   \n",
      "307509           0           0        Laborers              2.0   \n",
      "307510           1           0        Laborers              2.0   \n",
      "\n",
      "        REGION_RATING_CLIENT  REGION_RATING_CLIENT_W_CITY  \\\n",
      "0                          2                            2   \n",
      "1                          1                            1   \n",
      "2                          2                            2   \n",
      "3                          2                            2   \n",
      "4                          2                            2   \n",
      "5                          2                            2   \n",
      "...                      ...                          ...   \n",
      "307505                     2                            2   \n",
      "307506                     1                            1   \n",
      "307507                     2                            2   \n",
      "307508                     3                            3   \n",
      "307509                     2                            2   \n",
      "307510                     1                            1   \n",
      "\n",
      "       WEEKDAY_APPR_PROCESS_START  HOUR_APPR_PROCESS_START  \\\n",
      "0                       WEDNESDAY                       10   \n",
      "1                          MONDAY                       11   \n",
      "2                          MONDAY                        9   \n",
      "3                       WEDNESDAY                       17   \n",
      "4                        THURSDAY                       11   \n",
      "5                       WEDNESDAY                       16   \n",
      "...                           ...                      ...   \n",
      "307505                     MONDAY                       15   \n",
      "307506                   THURSDAY                       15   \n",
      "307507                     MONDAY                        8   \n",
      "307508                   THURSDAY                        9   \n",
      "307509                  WEDNESDAY                        9   \n",
      "307510                   THURSDAY                       20   \n",
      "\n",
      "        REG_REGION_NOT_LIVE_REGION  REG_REGION_NOT_WORK_REGION  \\\n",
      "0                                0                           0   \n",
      "1                                0                           0   \n",
      "2                                0                           0   \n",
      "3                                0                           0   \n",
      "4                                0                           0   \n",
      "5                                0                           0   \n",
      "...                            ...                         ...   \n",
      "307505                           0                           0   \n",
      "307506                           0                           0   \n",
      "307507                           0                           0   \n",
      "307508                           0                           0   \n",
      "307509                           0                           0   \n",
      "307510                           0                           0   \n",
      "\n",
      "        LIVE_REGION_NOT_WORK_REGION  REG_CITY_NOT_LIVE_CITY  \\\n",
      "0                                 0                       0   \n",
      "1                                 0                       0   \n",
      "2                                 0                       0   \n",
      "3                                 0                       0   \n",
      "4                                 0                       0   \n",
      "5                                 0                       0   \n",
      "...                             ...                     ...   \n",
      "307505                            0                       0   \n",
      "307506                            0                       0   \n",
      "307507                            0                       0   \n",
      "307508                            0                       0   \n",
      "307509                            0                       1   \n",
      "307510                            0                       0   \n",
      "\n",
      "        REG_CITY_NOT_WORK_CITY  LIVE_CITY_NOT_WORK_CITY  \\\n",
      "0                            0                        0   \n",
      "1                            0                        0   \n",
      "2                            0                        0   \n",
      "3                            0                        0   \n",
      "4                            1                        1   \n",
      "5                            0                        0   \n",
      "...                        ...                      ...   \n",
      "307505                       0                        0   \n",
      "307506                       0                        0   \n",
      "307507                       0                        0   \n",
      "307508                       1                        1   \n",
      "307509                       1                        0   \n",
      "307510                       1                        1   \n",
      "\n",
      "             ORGANIZATION_TYPE  EXT_SOURCE_1  EXT_SOURCE_2  EXT_SOURCE_3  \\\n",
      "0       Business Entity Type 3      0.083037      0.262949      0.139376   \n",
      "1                       School      0.311267      0.622246           NaN   \n",
      "2                   Government           NaN      0.555912      0.729567   \n",
      "3       Business Entity Type 3           NaN      0.650442           NaN   \n",
      "4                     Religion           NaN      0.322738           NaN   \n",
      "5                        Other           NaN      0.354225      0.621226   \n",
      "...                        ...           ...           ...           ...   \n",
      "307505                     XNA           NaN      0.346391      0.742182   \n",
      "307506                Services      0.145570      0.681632           NaN   \n",
      "307507                     XNA           NaN      0.115992           NaN   \n",
      "307508                  School      0.744026      0.535722      0.218859   \n",
      "307509  Business Entity Type 1           NaN      0.514163      0.661024   \n",
      "307510  Business Entity Type 3      0.734460      0.708569      0.113922   \n",
      "\n",
      "        APARTMENTS_AVG  BASEMENTAREA_AVG  YEARS_BEGINEXPLUATATION_AVG  \\\n",
      "0               0.0247            0.0369                       0.9722   \n",
      "1               0.0959            0.0529                       0.9851   \n",
      "2                  NaN               NaN                          NaN   \n",
      "3                  NaN               NaN                          NaN   \n",
      "4                  NaN               NaN                          NaN   \n",
      "5                  NaN               NaN                          NaN   \n",
      "...                ...               ...                          ...   \n",
      "307505          0.2206            0.1638                       0.9861   \n",
      "307506          0.2021            0.0887                       0.9876   \n",
      "307507          0.0247            0.0435                       0.9727   \n",
      "307508          0.1031            0.0862                       0.9816   \n",
      "307509          0.0124               NaN                       0.9771   \n",
      "307510          0.0742            0.0526                       0.9881   \n",
      "\n",
      "        YEARS_BUILD_AVG  COMMONAREA_AVG  ELEVATORS_AVG  ENTRANCES_AVG  \\\n",
      "0                0.6192          0.0143           0.00         0.0690   \n",
      "1                0.7960          0.0605           0.08         0.0345   \n",
      "2                   NaN             NaN            NaN            NaN   \n",
      "3                   NaN             NaN            NaN            NaN   \n",
      "4                   NaN             NaN            NaN            NaN   \n",
      "5                   NaN             NaN            NaN            NaN   \n",
      "...                 ...             ...            ...            ...   \n",
      "307505           0.8096          0.1432           0.24         0.2069   \n",
      "307506           0.8300          0.0202           0.22         0.1034   \n",
      "307507           0.6260          0.0022           0.00         0.1034   \n",
      "307508           0.7484          0.0123           0.00         0.2069   \n",
      "307509              NaN             NaN            NaN         0.0690   \n",
      "307510              NaN          0.0176           0.08         0.0690   \n",
      "\n",
      "        FLOORSMAX_AVG  FLOORSMIN_AVG  LANDAREA_AVG  LIVINGAPARTMENTS_AVG  \\\n",
      "0              0.0833         0.1250        0.0369                0.0202   \n",
      "1              0.2917         0.3333        0.0130                0.0773   \n",
      "2                 NaN            NaN           NaN                   NaN   \n",
      "3                 NaN            NaN           NaN                   NaN   \n",
      "4                 NaN            NaN           NaN                   NaN   \n",
      "5                 NaN            NaN           NaN                   NaN   \n",
      "...               ...            ...           ...                   ...   \n",
      "307505         0.3333         0.3750        0.0859                0.1765   \n",
      "307506         0.6042         0.2708        0.0594                0.1484   \n",
      "307507         0.0833         0.1250        0.0579                0.0202   \n",
      "307508         0.1667         0.2083           NaN                0.0841   \n",
      "307509         0.0417            NaN           NaN                   NaN   \n",
      "307510         0.3750            NaN           NaN                   NaN   \n",
      "\n",
      "        LIVINGAREA_AVG  NONLIVINGAPARTMENTS_AVG  NONLIVINGAREA_AVG  \\\n",
      "0               0.0190                   0.0000             0.0000   \n",
      "1               0.0549                   0.0039             0.0098   \n",
      "2                  NaN                      NaN                NaN   \n",
      "3                  NaN                      NaN                NaN   \n",
      "4                  NaN                      NaN                NaN   \n",
      "5                  NaN                      NaN                NaN   \n",
      "...                ...                      ...                ...   \n",
      "307505          0.2302                   0.0154             0.0083   \n",
      "307506          0.1965                   0.0753             0.1095   \n",
      "307507          0.0257                   0.0000             0.0000   \n",
      "307508          0.9279                   0.0000             0.0000   \n",
      "307509          0.0061                      NaN                NaN   \n",
      "307510          0.0791                      NaN             0.0000   \n",
      "\n",
      "        APARTMENTS_MODE  BASEMENTAREA_MODE  YEARS_BEGINEXPLUATATION_MODE  \\\n",
      "0                0.0252             0.0383                        0.9722   \n",
      "1                0.0924             0.0538                        0.9851   \n",
      "2                   NaN                NaN                           NaN   \n",
      "3                   NaN                NaN                           NaN   \n",
      "4                   NaN                NaN                           NaN   \n",
      "5                   NaN                NaN                           NaN   \n",
      "...                 ...                ...                           ...   \n",
      "307505           0.2248             0.1700                        0.9861   \n",
      "307506           0.1008             0.0172                        0.9782   \n",
      "307507           0.0252             0.0451                        0.9727   \n",
      "307508           0.1050             0.0894                        0.9816   \n",
      "307509           0.0126                NaN                        0.9772   \n",
      "307510           0.0756             0.0546                        0.9881   \n",
      "\n",
      "        YEARS_BUILD_MODE  COMMONAREA_MODE  ELEVATORS_MODE  ENTRANCES_MODE  \\\n",
      "0                 0.6341           0.0144          0.0000          0.0690   \n",
      "1                 0.8040           0.0497          0.0806          0.0345   \n",
      "2                    NaN              NaN             NaN             NaN   \n",
      "3                    NaN              NaN             NaN             NaN   \n",
      "4                    NaN              NaN             NaN             NaN   \n",
      "5                    NaN              NaN             NaN             NaN   \n",
      "...                  ...              ...             ...             ...   \n",
      "307505            0.8171           0.1445          0.2417          0.2069   \n",
      "307506            0.7125           0.0172          0.0806          0.0345   \n",
      "307507            0.6406           0.0022          0.0000          0.1034   \n",
      "307508            0.7583           0.0124          0.0000          0.2069   \n",
      "307509               NaN              NaN             NaN          0.0690   \n",
      "307510               NaN           0.0178          0.0806          0.0690   \n",
      "\n",
      "        FLOORSMAX_MODE  FLOORSMIN_MODE  LANDAREA_MODE  LIVINGAPARTMENTS_MODE  \\\n",
      "0               0.0833          0.1250         0.0377                 0.0220   \n",
      "1               0.2917          0.3333         0.0128                 0.0790   \n",
      "2                  NaN             NaN            NaN                    NaN   \n",
      "3                  NaN             NaN            NaN                    NaN   \n",
      "4                  NaN             NaN            NaN                    NaN   \n",
      "5                  NaN             NaN            NaN                    NaN   \n",
      "...                ...             ...            ...                    ...   \n",
      "307505          0.3333          0.3750         0.0879                 0.1928   \n",
      "307506          0.4583          0.0417         0.0094                 0.0882   \n",
      "307507          0.0833          0.1250         0.0592                 0.0220   \n",
      "307508          0.1667          0.2083            NaN                 0.0918   \n",
      "307509          0.0417             NaN            NaN                    NaN   \n",
      "307510          0.3750             NaN            NaN                    NaN   \n",
      "\n",
      "        LIVINGAREA_MODE  NONLIVINGAPARTMENTS_MODE  NONLIVINGAREA_MODE  \\\n",
      "0                0.0198                    0.0000              0.0000   \n",
      "1                0.0554                    0.0000              0.0000   \n",
      "2                   NaN                       NaN                 NaN   \n",
      "3                   NaN                       NaN                 NaN   \n",
      "4                   NaN                       NaN                 NaN   \n",
      "5                   NaN                       NaN                 NaN   \n",
      "...                 ...                       ...                 ...   \n",
      "307505           0.2398                    0.0156              0.0088   \n",
      "307506           0.0853                    0.0000              0.0125   \n",
      "307507           0.0267                    0.0000              0.0000   \n",
      "307508           0.9667                    0.0000              0.0000   \n",
      "307509           0.0063                       NaN                 NaN   \n",
      "307510           0.0824                       NaN              0.0000   \n",
      "\n",
      "        APARTMENTS_MEDI  BASEMENTAREA_MEDI  YEARS_BEGINEXPLUATATION_MEDI  \\\n",
      "0                0.0250             0.0369                        0.9722   \n",
      "1                0.0968             0.0529                        0.9851   \n",
      "2                   NaN                NaN                           NaN   \n",
      "3                   NaN                NaN                           NaN   \n",
      "4                   NaN                NaN                           NaN   \n",
      "5                   NaN                NaN                           NaN   \n",
      "...                 ...                ...                           ...   \n",
      "307505           0.2228             0.1638                        0.9861   \n",
      "307506           0.2040             0.0887                        0.9876   \n",
      "307507           0.0250             0.0435                        0.9727   \n",
      "307508           0.1041             0.0862                        0.9816   \n",
      "307509           0.0125                NaN                        0.9771   \n",
      "307510           0.0749             0.0526                        0.9881   \n",
      "\n",
      "        YEARS_BUILD_MEDI  COMMONAREA_MEDI  ELEVATORS_MEDI  ENTRANCES_MEDI  \\\n",
      "0                 0.6243           0.0144            0.00          0.0690   \n",
      "1                 0.7987           0.0608            0.08          0.0345   \n",
      "2                    NaN              NaN             NaN             NaN   \n",
      "3                    NaN              NaN             NaN             NaN   \n",
      "4                    NaN              NaN             NaN             NaN   \n",
      "5                    NaN              NaN             NaN             NaN   \n",
      "...                  ...              ...             ...             ...   \n",
      "307505            0.8121           0.1441            0.24          0.2069   \n",
      "307506            0.8323           0.0203            0.22          0.1034   \n",
      "307507            0.6310           0.0022            0.00          0.1034   \n",
      "307508            0.7518           0.0124            0.00          0.2069   \n",
      "307509               NaN              NaN             NaN          0.0690   \n",
      "307510               NaN           0.0177            0.08          0.0690   \n",
      "\n",
      "        FLOORSMAX_MEDI  FLOORSMIN_MEDI  LANDAREA_MEDI  LIVINGAPARTMENTS_MEDI  \\\n",
      "0               0.0833          0.1250         0.0375                 0.0205   \n",
      "1               0.2917          0.3333         0.0132                 0.0787   \n",
      "2                  NaN             NaN            NaN                    NaN   \n",
      "3                  NaN             NaN            NaN                    NaN   \n",
      "4                  NaN             NaN            NaN                    NaN   \n",
      "5                  NaN             NaN            NaN                    NaN   \n",
      "...                ...             ...            ...                    ...   \n",
      "307505          0.3333          0.3750         0.0874                 0.1796   \n",
      "307506          0.6042          0.2708         0.0605                 0.1509   \n",
      "307507          0.0833          0.1250         0.0589                 0.0205   \n",
      "307508          0.1667          0.2083            NaN                 0.0855   \n",
      "307509          0.0417             NaN            NaN                    NaN   \n",
      "307510          0.3750             NaN            NaN                    NaN   \n",
      "\n",
      "        LIVINGAREA_MEDI  NONLIVINGAPARTMENTS_MEDI  NONLIVINGAREA_MEDI  \\\n",
      "0                0.0193                    0.0000              0.0000   \n",
      "1                0.0558                    0.0039              0.0100   \n",
      "2                   NaN                       NaN                 NaN   \n",
      "3                   NaN                       NaN                 NaN   \n",
      "4                   NaN                       NaN                 NaN   \n",
      "5                   NaN                       NaN                 NaN   \n",
      "...                 ...                       ...                 ...   \n",
      "307505           0.2343                    0.0155              0.0085   \n",
      "307506           0.2001                    0.0757              0.1118   \n",
      "307507           0.0261                    0.0000              0.0000   \n",
      "307508           0.9445                    0.0000              0.0000   \n",
      "307509           0.0062                       NaN                 NaN   \n",
      "307510           0.0805                       NaN              0.0000   \n",
      "\n",
      "       FONDKAPREMONT_MODE  HOUSETYPE_MODE  TOTALAREA_MODE WALLSMATERIAL_MODE  \\\n",
      "0        reg oper account  block of flats          0.0149       Stone, brick   \n",
      "1        reg oper account  block of flats          0.0714              Block   \n",
      "2                     NaN             NaN             NaN                NaN   \n",
      "3                     NaN             NaN             NaN                NaN   \n",
      "4                     NaN             NaN             NaN                NaN   \n",
      "5                     NaN             NaN             NaN                NaN   \n",
      "...                   ...             ...             ...                ...   \n",
      "307505   reg oper account  block of flats          0.2611              Panel   \n",
      "307506   reg oper account  block of flats          0.2898       Stone, brick   \n",
      "307507   reg oper account  block of flats          0.0214       Stone, brick   \n",
      "307508   reg oper account  block of flats          0.7970              Panel   \n",
      "307509                NaN  block of flats          0.0086       Stone, brick   \n",
      "307510                NaN  block of flats          0.0718              Panel   \n",
      "\n",
      "       EMERGENCYSTATE_MODE  OBS_30_CNT_SOCIAL_CIRCLE  \\\n",
      "0                       No                       2.0   \n",
      "1                       No                       1.0   \n",
      "2                      NaN                       0.0   \n",
      "3                      NaN                       2.0   \n",
      "4                      NaN                       0.0   \n",
      "5                      NaN                       0.0   \n",
      "...                    ...                       ...   \n",
      "307505                  No                       0.0   \n",
      "307506                  No                       0.0   \n",
      "307507                  No                       0.0   \n",
      "307508                  No                       6.0   \n",
      "307509                  No                       0.0   \n",
      "307510                  No                       0.0   \n",
      "\n",
      "        DEF_30_CNT_SOCIAL_CIRCLE  OBS_60_CNT_SOCIAL_CIRCLE  \\\n",
      "0                            2.0                       2.0   \n",
      "1                            0.0                       1.0   \n",
      "2                            0.0                       0.0   \n",
      "3                            0.0                       2.0   \n",
      "4                            0.0                       0.0   \n",
      "5                            0.0                       0.0   \n",
      "...                          ...                       ...   \n",
      "307505                       0.0                       0.0   \n",
      "307506                       0.0                       0.0   \n",
      "307507                       0.0                       0.0   \n",
      "307508                       0.0                       6.0   \n",
      "307509                       0.0                       0.0   \n",
      "307510                       0.0                       0.0   \n",
      "\n",
      "        DEF_60_CNT_SOCIAL_CIRCLE  DAYS_LAST_PHONE_CHANGE  FLAG_DOCUMENT_2  \\\n",
      "0                            2.0                 -1134.0                0   \n",
      "1                            0.0                  -828.0                0   \n",
      "2                            0.0                  -815.0                0   \n",
      "3                            0.0                  -617.0                0   \n",
      "4                            0.0                 -1106.0                0   \n",
      "5                            0.0                 -2536.0                0   \n",
      "...                          ...                     ...              ...   \n",
      "307505                       0.0                     0.0                0   \n",
      "307506                       0.0                  -273.0                0   \n",
      "307507                       0.0                     0.0                0   \n",
      "307508                       0.0                 -1909.0                0   \n",
      "307509                       0.0                  -322.0                0   \n",
      "307510                       0.0                  -787.0                0   \n",
      "\n",
      "        FLAG_DOCUMENT_3  FLAG_DOCUMENT_4  FLAG_DOCUMENT_5  FLAG_DOCUMENT_6  \\\n",
      "0                     1                0                0                0   \n",
      "1                     1                0                0                0   \n",
      "2                     0                0                0                0   \n",
      "3                     1                0                0                0   \n",
      "4                     0                0                0                0   \n",
      "5                     1                0                0                0   \n",
      "...                 ...              ...              ...              ...   \n",
      "307505                0                0                0                1   \n",
      "307506                0                0                0                0   \n",
      "307507                1                0                0                0   \n",
      "307508                1                0                0                0   \n",
      "307509                1                0                0                0   \n",
      "307510                1                0                0                0   \n",
      "\n",
      "        FLAG_DOCUMENT_7  FLAG_DOCUMENT_8  FLAG_DOCUMENT_9  FLAG_DOCUMENT_10  \\\n",
      "0                     0                0                0                 0   \n",
      "1                     0                0                0                 0   \n",
      "2                     0                0                0                 0   \n",
      "3                     0                0                0                 0   \n",
      "4                     0                1                0                 0   \n",
      "5                     0                0                0                 0   \n",
      "...                 ...              ...              ...               ...   \n",
      "307505                0                0                0                 0   \n",
      "307506                0                1                0                 0   \n",
      "307507                0                0                0                 0   \n",
      "307508                0                0                0                 0   \n",
      "307509                0                0                0                 0   \n",
      "307510                0                0                0                 0   \n",
      "\n",
      "        FLAG_DOCUMENT_11  FLAG_DOCUMENT_12  FLAG_DOCUMENT_13  \\\n",
      "0                      0                 0                 0   \n",
      "1                      0                 0                 0   \n",
      "2                      0                 0                 0   \n",
      "3                      0                 0                 0   \n",
      "4                      0                 0                 0   \n",
      "5                      0                 0                 0   \n",
      "...                  ...               ...               ...   \n",
      "307505                 0                 0                 0   \n",
      "307506                 0                 0                 0   \n",
      "307507                 0                 0                 0   \n",
      "307508                 0                 0                 0   \n",
      "307509                 0                 0                 0   \n",
      "307510                 0                 0                 0   \n",
      "\n",
      "        FLAG_DOCUMENT_14  FLAG_DOCUMENT_15  FLAG_DOCUMENT_16  \\\n",
      "0                      0                 0                 0   \n",
      "1                      0                 0                 0   \n",
      "2                      0                 0                 0   \n",
      "3                      0                 0                 0   \n",
      "4                      0                 0                 0   \n",
      "5                      0                 0                 0   \n",
      "...                  ...               ...               ...   \n",
      "307505                 0                 0                 0   \n",
      "307506                 0                 0                 0   \n",
      "307507                 0                 0                 0   \n",
      "307508                 0                 0                 0   \n",
      "307509                 0                 0                 0   \n",
      "307510                 0                 0                 0   \n",
      "\n",
      "        FLAG_DOCUMENT_17  FLAG_DOCUMENT_18  FLAG_DOCUMENT_19  \\\n",
      "0                      0                 0                 0   \n",
      "1                      0                 0                 0   \n",
      "2                      0                 0                 0   \n",
      "3                      0                 0                 0   \n",
      "4                      0                 0                 0   \n",
      "5                      0                 0                 0   \n",
      "...                  ...               ...               ...   \n",
      "307505                 0                 0                 0   \n",
      "307506                 0                 0                 0   \n",
      "307507                 0                 0                 0   \n",
      "307508                 0                 0                 0   \n",
      "307509                 0                 0                 0   \n",
      "307510                 0                 0                 0   \n",
      "\n",
      "        FLAG_DOCUMENT_20  FLAG_DOCUMENT_21  AMT_REQ_CREDIT_BUREAU_HOUR  \\\n",
      "0                      0                 0                         0.0   \n",
      "1                      0                 0                         0.0   \n",
      "2                      0                 0                         0.0   \n",
      "3                      0                 0                         NaN   \n",
      "4                      0                 0                         0.0   \n",
      "5                      0                 0                         0.0   \n",
      "...                  ...               ...                         ...   \n",
      "307505                 0                 0                         0.0   \n",
      "307506                 0                 0                         NaN   \n",
      "307507                 0                 0                         NaN   \n",
      "307508                 0                 0                         1.0   \n",
      "307509                 0                 0                         0.0   \n",
      "307510                 0                 0                         0.0   \n",
      "\n",
      "        AMT_REQ_CREDIT_BUREAU_DAY  AMT_REQ_CREDIT_BUREAU_WEEK  \\\n",
      "0                             0.0                         0.0   \n",
      "1                             0.0                         0.0   \n",
      "2                             0.0                         0.0   \n",
      "3                             NaN                         NaN   \n",
      "4                             0.0                         0.0   \n",
      "5                             0.0                         0.0   \n",
      "...                           ...                         ...   \n",
      "307505                        0.0                         0.0   \n",
      "307506                        NaN                         NaN   \n",
      "307507                        NaN                         NaN   \n",
      "307508                        0.0                         0.0   \n",
      "307509                        0.0                         0.0   \n",
      "307510                        0.0                         0.0   \n",
      "\n",
      "        AMT_REQ_CREDIT_BUREAU_MON  AMT_REQ_CREDIT_BUREAU_QRT  \\\n",
      "0                             0.0                        0.0   \n",
      "1                             0.0                        0.0   \n",
      "2                             0.0                        0.0   \n",
      "3                             NaN                        NaN   \n",
      "4                             0.0                        0.0   \n",
      "5                             0.0                        1.0   \n",
      "...                           ...                        ...   \n",
      "307505                        2.0                        0.0   \n",
      "307506                        NaN                        NaN   \n",
      "307507                        NaN                        NaN   \n",
      "307508                        1.0                        0.0   \n",
      "307509                        0.0                        0.0   \n",
      "307510                        2.0                        0.0   \n",
      "\n",
      "        AMT_REQ_CREDIT_BUREAU_YEAR  \n",
      "0                              1.0  \n",
      "1                              0.0  \n",
      "2                              0.0  \n",
      "3                              NaN  \n",
      "4                              0.0  \n",
      "5                              1.0  \n",
      "...                            ...  \n",
      "307505                         0.0  \n",
      "307506                         NaN  \n",
      "307507                         NaN  \n",
      "307508                         1.0  \n",
      "307509                         0.0  \n",
      "307510                         1.0  \n",
      "\n",
      "[307511 rows x 122 columns]\n"
     ]
    }
   ],
   "source": [
    "with pd.option_context('display.max_rows', 12, 'display.max_columns', None):\n",
    "    print(df)"
   ]
  },
  {
   "cell_type": "code",
   "execution_count": 5,
   "metadata": {},
   "outputs": [],
   "source": [
    "y = df['TARGET']\n",
    "df.drop(columns=['TARGET', 'SK_ID_CURR'], inplace=True)"
   ]
  },
  {
   "cell_type": "code",
   "execution_count": 6,
   "metadata": {},
   "outputs": [
    {
     "data": {
      "text/plain": [
       "array([dtype('O'), dtype('int64'), dtype('float64')], dtype=object)"
      ]
     },
     "execution_count": 6,
     "metadata": {},
     "output_type": "execute_result"
    }
   ],
   "source": [
    "df.dtypes.unique()"
   ]
  },
  {
   "cell_type": "code",
   "execution_count": 7,
   "metadata": {},
   "outputs": [],
   "source": [
    "for col in df.dtypes.index[df.dtypes != float]:\n",
    "    df[col] = df[col].fillna(df[col].value_counts().idxmax())"
   ]
  },
  {
   "cell_type": "code",
   "execution_count": 8,
   "metadata": {},
   "outputs": [],
   "source": [
    "for col in df.dtypes.index[df.dtypes == float]:\n",
    "    df[col] = df[col].fillna(df[col].mean())"
   ]
  },
  {
   "cell_type": "code",
   "execution_count": 9,
   "metadata": {},
   "outputs": [],
   "source": [
    "from sklearn.preprocessing import LabelEncoder\n",
    "for col in df.dtypes.index[df.dtypes == object]:\n",
    "    df[col] = LabelEncoder().fit_transform(df[col])"
   ]
  },
  {
   "cell_type": "code",
   "execution_count": 10,
   "metadata": {},
   "outputs": [
    {
     "data": {
      "text/plain": [
       "array([dtype('int32'), dtype('int64'), dtype('float64')], dtype=object)"
      ]
     },
     "execution_count": 10,
     "metadata": {},
     "output_type": "execute_result"
    }
   ],
   "source": [
    "df.dtypes.unique()"
   ]
  },
  {
   "cell_type": "code",
   "execution_count": 11,
   "metadata": {},
   "outputs": [],
   "source": [
    "from sklearn.model_selection import train_test_split\n",
    "X_train, X_test, y_train, y_test = train_test_split(df, y, test_size=0.3, random_state=0)"
   ]
  },
  {
   "cell_type": "markdown",
   "metadata": {},
   "source": [
    "__Задание 2. (1.5 балла)__\n",
    "\n",
    "Обучите реализации градиентного бустинга LightGBM и Catboost на вещественных признаках без подбора параметров. \n",
    "Почему получилась заметная разница в качестве? \n",
    "\n",
    "В этом и последующих экспериментах необходимо измерять время обучения моделей."
   ]
  },
  {
   "cell_type": "code",
   "execution_count": 12,
   "metadata": {},
   "outputs": [],
   "source": [
    "### ╰( ͡° ͜ʖ ͡° )つ──☆*:・ﾟ\n",
    "from catboost import CatBoostClassifier\n",
    "from lightgbm import LGBMClassifier"
   ]
  },
  {
   "cell_type": "code",
   "execution_count": 13,
   "metadata": {},
   "outputs": [],
   "source": [
    "num_features = list(df.dtypes.index[df.dtypes != 'int32'])\n",
    "cat_features = list(df.dtypes.index[df.dtypes == 'int32'])"
   ]
  },
  {
   "cell_type": "code",
   "execution_count": 14,
   "metadata": {},
   "outputs": [
    {
     "data": {
      "text/plain": [
       "(104, 16)"
      ]
     },
     "execution_count": 14,
     "metadata": {},
     "output_type": "execute_result"
    }
   ],
   "source": [
    "len(num_features), len(cat_features)"
   ]
  },
  {
   "cell_type": "code",
   "execution_count": 15,
   "metadata": {},
   "outputs": [],
   "source": [
    "cb2 = CatBoostClassifier(verbose=100)"
   ]
  },
  {
   "cell_type": "code",
   "execution_count": 16,
   "metadata": {},
   "outputs": [
    {
     "name": "stdout",
     "output_type": "stream",
     "text": [
      "Learning rate set to 0.076622\n",
      "0:\tlearn: 0.6161856\ttotal: 229ms\tremaining: 3m 49s\n",
      "100:\tlearn: 0.2490795\ttotal: 9.59s\tremaining: 1m 25s\n",
      "200:\tlearn: 0.2458302\ttotal: 18.2s\tremaining: 1m 12s\n",
      "300:\tlearn: 0.2430789\ttotal: 27.2s\tremaining: 1m 3s\n",
      "400:\tlearn: 0.2408876\ttotal: 36.3s\tremaining: 54.2s\n",
      "500:\tlearn: 0.2388415\ttotal: 45.7s\tremaining: 45.5s\n",
      "600:\tlearn: 0.2368517\ttotal: 54.9s\tremaining: 36.4s\n",
      "700:\tlearn: 0.2349460\ttotal: 1m 4s\tremaining: 27.3s\n",
      "800:\tlearn: 0.2330659\ttotal: 1m 13s\tremaining: 18.2s\n",
      "900:\tlearn: 0.2312854\ttotal: 1m 22s\tremaining: 9.07s\n",
      "999:\tlearn: 0.2295513\ttotal: 1m 31s\tremaining: 0us\n",
      "Wall time: 1min 35s\n"
     ]
    },
    {
     "data": {
      "text/plain": [
       "<catboost.core.CatBoostClassifier at 0x1d688944710>"
      ]
     },
     "execution_count": 16,
     "metadata": {},
     "output_type": "execute_result"
    }
   ],
   "source": [
    "%%time\n",
    "cb2.fit(X_train[num_features], y_train)"
   ]
  },
  {
   "cell_type": "code",
   "execution_count": 17,
   "metadata": {},
   "outputs": [],
   "source": [
    "lgbm2 = LGBMClassifier()"
   ]
  },
  {
   "cell_type": "code",
   "execution_count": 18,
   "metadata": {},
   "outputs": [
    {
     "name": "stdout",
     "output_type": "stream",
     "text": [
      "Wall time: 5.78 s\n"
     ]
    },
    {
     "data": {
      "text/plain": [
       "LGBMClassifier(boosting_type='gbdt', class_weight=None, colsample_bytree=1.0,\n",
       "        importance_type='split', learning_rate=0.1, max_depth=-1,\n",
       "        min_child_samples=20, min_child_weight=0.001, min_split_gain=0.0,\n",
       "        n_estimators=100, n_jobs=-1, num_leaves=31, objective=None,\n",
       "        random_state=None, reg_alpha=0.0, reg_lambda=0.0, silent=True,\n",
       "        subsample=1.0, subsample_for_bin=200000, subsample_freq=0)"
      ]
     },
     "execution_count": 18,
     "metadata": {},
     "output_type": "execute_result"
    }
   ],
   "source": [
    "%%time\n",
    "lgbm2.fit(X_train[num_features], y_train)"
   ]
  },
  {
   "cell_type": "code",
   "execution_count": 19,
   "metadata": {},
   "outputs": [],
   "source": [
    "from sklearn.metrics import average_precision_score"
   ]
  },
  {
   "cell_type": "code",
   "execution_count": 20,
   "metadata": {},
   "outputs": [
    {
     "name": "stdout",
     "output_type": "stream",
     "text": [
      "CatBoost: 0.233\n",
      "LGBM: 0.230\n"
     ]
    }
   ],
   "source": [
    "print('CatBoost: {:.3f}'.format(average_precision_score(y_test, cb2.predict_proba(X_test[num_features])[:, 1])))\n",
    "print('LGBM: {:.3f}'.format(average_precision_score(y_test, lgbm2.predict_proba(X_test[num_features])[:, 1])))"
   ]
  },
  {
   "cell_type": "markdown",
   "metadata": {},
   "source": [
    "**Ответ:** Ну, вообще-то, разница незаметная даже в масштабах сравниваемых значений. Объясняется в любом случае разной логикой моделей и разными параметрами."
   ]
  },
  {
   "cell_type": "markdown",
   "metadata": {},
   "source": [
    "__Задание 3. (2 балла)__\n",
    "\n",
    "Подберите с CV=3 оптимальные параметры алгоритмов, изменяя:\n",
    "\n",
    "* глубину деревьев;\n",
    "* количество деревьев;\n",
    "* темп обучения;\n",
    "* оптимизируемый функционал.\n",
    "\n",
    "Проанализируйте соотношения глубины и количества деревьев в зависимости от алгоритма."
   ]
  },
  {
   "cell_type": "markdown",
   "metadata": {},
   "source": [
    "**Ответ:** Я попробовал перебирать одновременно количество деревьев и темп обучения, но это работало неприлично долго, поэтому всюду в работе я фиксирую количество деревьев. В любом случае, обычно искать надо не сами значения количества деревьев и темпа обучения, а их произведение, поэтому вполне можно зафиксировать один из параметров."
   ]
  },
  {
   "cell_type": "code",
   "execution_count": 21,
   "metadata": {},
   "outputs": [],
   "source": [
    "### ╰( ͡° ͜ʖ ͡° )つ──☆*:・ﾟ\n",
    "from sklearn.model_selection import RandomizedSearchCV\n",
    "import scipy.stats as stats"
   ]
  },
  {
   "cell_type": "code",
   "execution_count": 33,
   "metadata": {
    "scrolled": true
   },
   "outputs": [
    {
     "name": "stdout",
     "output_type": "stream",
     "text": [
      "Fitting 3 folds for each of 6 candidates, totalling 18 fits\n",
      "[Parallel(n_jobs=-1)]: Using backend LokyBackend with 8 concurrent workers.\n",
      "[Parallel(n_jobs=-1)]: Done   1 tasks      | elapsed:  1.5min\n",
      "[Parallel(n_jobs=-1)]: Done   2 tasks      | elapsed:  1.5min\n",
      "[Parallel(n_jobs=-1)]: Done   3 tasks      | elapsed:  1.5min\n",
      "[Parallel(n_jobs=-1)]: Done   4 out of  18 | elapsed:  1.5min remaining:  5.3min\n",
      "[Parallel(n_jobs=-1)]: Done   5 out of  18 | elapsed:  1.5min remaining:  4.0min\n",
      "[Parallel(n_jobs=-1)]: Done   6 out of  18 | elapsed:  1.6min remaining:  3.2min\n",
      "[Parallel(n_jobs=-1)]: Done   7 out of  18 | elapsed:  1.6min remaining:  2.5min\n",
      "[Parallel(n_jobs=-1)]: Done   8 out of  18 | elapsed:  1.6min remaining:  2.0min\n",
      "[Parallel(n_jobs=-1)]: Done   9 out of  18 | elapsed:  2.8min remaining:  2.8min\n",
      "[Parallel(n_jobs=-1)]: Done  10 out of  18 | elapsed:  2.8min remaining:  2.2min\n",
      "[Parallel(n_jobs=-1)]: Done  11 out of  18 | elapsed:  2.8min remaining:  1.8min\n",
      "[Parallel(n_jobs=-1)]: Done  12 out of  18 | elapsed:  2.9min remaining:  1.4min\n",
      "[Parallel(n_jobs=-1)]: Done  13 out of  18 | elapsed:  3.4min remaining:  1.3min\n",
      "[Parallel(n_jobs=-1)]: Done  14 out of  18 | elapsed:  4.3min remaining:  1.2min\n",
      "[Parallel(n_jobs=-1)]: Done  15 out of  18 | elapsed:  4.3min remaining:   51.8s\n",
      "[Parallel(n_jobs=-1)]: Done  16 out of  18 | elapsed:  4.4min remaining:   32.8s\n",
      "[Parallel(n_jobs=-1)]: Done  18 out of  18 | elapsed:  4.4min remaining:    0.0s\n",
      "[Parallel(n_jobs=-1)]: Done  18 out of  18 | elapsed:  4.4min finished\n",
      "Wall time: 4min 39s\n"
     ]
    }
   ],
   "source": [
    "%%time\n",
    "rs_cb3 = RandomizedSearchCV(CatBoostClassifier(n_estimators=100, verbose=0), {\n",
    "    'max_depth': range(4, 12),\n",
    "    'learning_rate': stats.expon(scale=0.05)\n",
    "}, cv=3, n_iter=6, random_state=0, scoring='average_precision', verbose=50, n_jobs=-1)\n",
    "rs_cb3.fit(X_train[num_features], y_train)"
   ]
  },
  {
   "cell_type": "code",
   "execution_count": 34,
   "metadata": {
    "scrolled": true
   },
   "outputs": [
    {
     "name": "stdout",
     "output_type": "stream",
     "text": [
      "Fitting 3 folds for each of 6 candidates, totalling 18 fits\n",
      "[Parallel(n_jobs=-1)]: Using backend LokyBackend with 8 concurrent workers.\n",
      "[Parallel(n_jobs=-1)]: Done   1 tasks      | elapsed:   27.4s\n",
      "[Parallel(n_jobs=-1)]: Done   2 tasks      | elapsed:   27.4s\n",
      "[Parallel(n_jobs=-1)]: Done   3 tasks      | elapsed:   28.3s\n",
      "[Parallel(n_jobs=-1)]: Done   4 out of  18 | elapsed:   28.6s remaining:  1.7min\n",
      "[Parallel(n_jobs=-1)]: Done   5 out of  18 | elapsed:   28.6s remaining:  1.2min\n",
      "[Parallel(n_jobs=-1)]: Done   6 out of  18 | elapsed:   32.5s remaining:  1.1min\n",
      "[Parallel(n_jobs=-1)]: Done   7 out of  18 | elapsed:   32.6s remaining:   51.2s\n",
      "[Parallel(n_jobs=-1)]: Done   8 out of  18 | elapsed:   33.1s remaining:   41.3s\n",
      "[Parallel(n_jobs=-1)]: Done   9 out of  18 | elapsed:   54.3s remaining:   54.3s\n",
      "[Parallel(n_jobs=-1)]: Done  10 out of  18 | elapsed:   56.3s remaining:   45.1s\n",
      "[Parallel(n_jobs=-1)]: Done  11 out of  18 | elapsed:   57.6s remaining:   36.6s\n",
      "[Parallel(n_jobs=-1)]: Done  12 out of  18 | elapsed:   57.6s remaining:   28.7s\n",
      "[Parallel(n_jobs=-1)]: Done  13 out of  18 | elapsed:  1.0min remaining:   23.7s\n",
      "[Parallel(n_jobs=-1)]: Done  14 out of  18 | elapsed:  1.1min remaining:   18.3s\n",
      "[Parallel(n_jobs=-1)]: Done  15 out of  18 | elapsed:  1.1min remaining:   12.8s\n",
      "[Parallel(n_jobs=-1)]: Done  16 out of  18 | elapsed:  1.1min remaining:    8.0s\n",
      "[Parallel(n_jobs=-1)]: Done  18 out of  18 | elapsed:  1.3min remaining:    0.0s\n",
      "[Parallel(n_jobs=-1)]: Done  18 out of  18 | elapsed:  1.3min finished\n",
      "Wall time: 1min 22s\n"
     ]
    }
   ],
   "source": [
    "%%time\n",
    "rs_lgbm3 = RandomizedSearchCV(LGBMClassifier(n_estimators=100, verbose=0), {\n",
    "    'max_depth': range(4, 12),\n",
    "    'learning_rate': stats.expon(scale=0.05)\n",
    "}, cv=3, n_iter=6, random_state=0, scoring='average_precision', verbose=50, n_jobs=-1)\n",
    "rs_lgbm3.fit(X_train[num_features], y_train)"
   ]
  },
  {
   "cell_type": "code",
   "execution_count": 35,
   "metadata": {},
   "outputs": [
    {
     "name": "stdout",
     "output_type": "stream",
     "text": [
      "CatBoost: 0.224\n",
      "LGBM: 0.232\n"
     ]
    }
   ],
   "source": [
    "print('CatBoost: {:.3f}'.format(average_precision_score(y_test, rs_cb3.predict_proba(X_test[num_features])[:, 1])))\n",
    "print('LGBM: {:.3f}'.format(average_precision_score(y_test, rs_lgbm3.predict_proba(X_test[num_features])[:, 1])))"
   ]
  },
  {
   "cell_type": "code",
   "execution_count": 36,
   "metadata": {},
   "outputs": [
    {
     "name": "stdout",
     "output_type": "stream",
     "text": [
      "{'learning_rate': 0.09298021204559256, 'max_depth': 7}\n",
      "{'learning_rate': 0.09298021204559256, 'max_depth': 7}\n"
     ]
    }
   ],
   "source": [
    "print(rs_cb3.best_params_)\n",
    "print(rs_lgbm3.best_params_)"
   ]
  },
  {
   "cell_type": "markdown",
   "metadata": {},
   "source": [
    "**Ответ:** Произведение темпа обучения и количества деревьев совпали у двух алгоритмов."
   ]
  },
  {
   "cell_type": "markdown",
   "metadata": {},
   "source": [
    "__Задание 4. (3.5 балла)__\n",
    "\n",
    "Добавьте категориальные признаки к вещественным следующими способами:\n",
    "\n",
    "* как OHE признаки;\n",
    "* как счетчики со сглаживанием.\n",
    "\n",
    "При подсчете счетчиков запрещается использование циклов. \n",
    "\n",
    "На получившихся датасетах подберите параметры у каждого из алгоритмов. Как меняется время, необходимое для обучения модели в зависимости от способа кодирования? Сравните полученные результаты с встроенными методами обработки категориальных признаков. "
   ]
  },
  {
   "cell_type": "code",
   "execution_count": 22,
   "metadata": {},
   "outputs": [],
   "source": [
    "### ╰( ͡° ͜ʖ ͡° )つ──☆*:・ﾟ\n",
    "from sklearn.compose import ColumnTransformer\n",
    "from sklearn.preprocessing import OneHotEncoder"
   ]
  },
  {
   "cell_type": "code",
   "execution_count": 23,
   "metadata": {},
   "outputs": [],
   "source": [
    "ohe_transform = ColumnTransformer([\n",
    "    (col, OneHotEncoder(categories='auto'), [col]) for col in cat_features\n",
    "], remainder='passthrough')\n",
    "\n",
    "ohe_X_train = ohe_transform.fit_transform(X_train)\n",
    "ohe_X_test = ohe_transform.transform(X_test)"
   ]
  },
  {
   "cell_type": "code",
   "execution_count": 24,
   "metadata": {},
   "outputs": [
    {
     "name": "stdout",
     "output_type": "stream",
     "text": [
      "(215257, 244)\n",
      "(215257, 120)\n"
     ]
    }
   ],
   "source": [
    "print(ohe_X_train.shape)\n",
    "print(X_train.shape)"
   ]
  },
  {
   "cell_type": "code",
   "execution_count": 25,
   "metadata": {
    "scrolled": true
   },
   "outputs": [
    {
     "name": "stdout",
     "output_type": "stream",
     "text": [
      "Fitting 3 folds for each of 6 candidates, totalling 18 fits\n",
      "[Parallel(n_jobs=4)]: Using backend LokyBackend with 4 concurrent workers.\n",
      "[Parallel(n_jobs=4)]: Done   1 tasks      | elapsed:  1.1min\n",
      "[Parallel(n_jobs=4)]: Done   2 tasks      | elapsed:  1.2min\n",
      "[Parallel(n_jobs=4)]: Done   3 tasks      | elapsed:  1.2min\n",
      "[Parallel(n_jobs=4)]: Done   4 tasks      | elapsed:  1.3min\n",
      "[Parallel(n_jobs=4)]: Done   5 tasks      | elapsed:  2.4min\n",
      "[Parallel(n_jobs=4)]: Done   6 tasks      | elapsed:  2.4min\n",
      "[Parallel(n_jobs=4)]: Done   7 tasks      | elapsed:  2.5min\n",
      "[Parallel(n_jobs=4)]: Done   8 tasks      | elapsed:  2.5min\n",
      "[Parallel(n_jobs=4)]: Done   9 tasks      | elapsed:  3.5min\n",
      "[Parallel(n_jobs=4)]: Done  10 tasks      | elapsed:  3.5min\n",
      "[Parallel(n_jobs=4)]: Done  11 tasks      | elapsed:  3.6min\n",
      "[Parallel(n_jobs=4)]: Done  12 out of  18 | elapsed:  3.6min remaining:  1.8min\n",
      "[Parallel(n_jobs=4)]: Done  13 out of  18 | elapsed:  4.5min remaining:  1.7min\n",
      "[Parallel(n_jobs=4)]: Done  14 out of  18 | elapsed:  4.6min remaining:  1.3min\n",
      "[Parallel(n_jobs=4)]: Done  15 out of  18 | elapsed:  4.6min remaining:   54.9s\n",
      "[Parallel(n_jobs=4)]: Done  16 out of  18 | elapsed:  4.6min remaining:   34.3s\n",
      "[Parallel(n_jobs=4)]: Done  18 out of  18 | elapsed:  5.0min remaining:    0.0s\n",
      "[Parallel(n_jobs=4)]: Done  18 out of  18 | elapsed:  5.0min finished\n",
      "Wall time: 5min 35s\n"
     ]
    }
   ],
   "source": [
    "%%time\n",
    "rs_cb4_ohe = RandomizedSearchCV(CatBoostClassifier(n_estimators=100, verbose=0), {\n",
    "    'max_depth': range(6, 10),\n",
    "    'learning_rate': stats.expon(scale=0.05)\n",
    "}, cv=3, n_iter=6, random_state=0, scoring='average_precision', verbose=50, n_jobs=4)\n",
    "rs_cb4_ohe.fit(ohe_X_train, y_train)"
   ]
  },
  {
   "cell_type": "code",
   "execution_count": 26,
   "metadata": {
    "scrolled": true
   },
   "outputs": [
    {
     "name": "stdout",
     "output_type": "stream",
     "text": [
      "Fitting 3 folds for each of 6 candidates, totalling 18 fits\n",
      "[Parallel(n_jobs=4)]: Using backend LokyBackend with 4 concurrent workers.\n",
      "[Parallel(n_jobs=4)]: Done   1 tasks      | elapsed:   21.5s\n",
      "[Parallel(n_jobs=4)]: Done   2 tasks      | elapsed:   22.2s\n",
      "[Parallel(n_jobs=4)]: Done   3 tasks      | elapsed:   22.8s\n",
      "[Parallel(n_jobs=4)]: Done   4 tasks      | elapsed:   22.9s\n",
      "[Parallel(n_jobs=4)]: Done   5 tasks      | elapsed:   41.0s\n",
      "[Parallel(n_jobs=4)]: Done   6 tasks      | elapsed:   41.7s\n",
      "[Parallel(n_jobs=4)]: Done   7 tasks      | elapsed:   44.0s\n",
      "[Parallel(n_jobs=4)]: Done   8 tasks      | elapsed:   44.2s\n",
      "[Parallel(n_jobs=4)]: Done   9 tasks      | elapsed:  1.0min\n",
      "[Parallel(n_jobs=4)]: Done  10 tasks      | elapsed:  1.0min\n",
      "[Parallel(n_jobs=4)]: Done  11 tasks      | elapsed:  1.1min\n",
      "[Parallel(n_jobs=4)]: Done  12 out of  18 | elapsed:  1.1min remaining:   32.4s\n",
      "[Parallel(n_jobs=4)]: Done  13 out of  18 | elapsed:  1.4min remaining:   31.7s\n",
      "[Parallel(n_jobs=4)]: Done  14 out of  18 | elapsed:  1.4min remaining:   24.0s\n",
      "[Parallel(n_jobs=4)]: Done  15 out of  18 | elapsed:  1.4min remaining:   16.9s\n",
      "[Parallel(n_jobs=4)]: Done  16 out of  18 | elapsed:  1.4min remaining:   10.6s\n",
      "[Parallel(n_jobs=4)]: Done  18 out of  18 | elapsed:  1.7min remaining:    0.0s\n",
      "[Parallel(n_jobs=4)]: Done  18 out of  18 | elapsed:  1.7min finished\n",
      "Wall time: 1min 48s\n"
     ]
    }
   ],
   "source": [
    "%%time\n",
    "rs_lgbm4_ohe = RandomizedSearchCV(LGBMClassifier(n_estimators=100, verbose=0), {\n",
    "    'max_depth': range(6, 10),\n",
    "    'learning_rate': stats.expon(scale=0.05)\n",
    "}, cv=3, n_iter=6, random_state=0, scoring='average_precision', verbose=50, n_jobs=4)\n",
    "rs_lgbm4_ohe.fit(ohe_X_train, y_train)"
   ]
  },
  {
   "cell_type": "code",
   "execution_count": 27,
   "metadata": {},
   "outputs": [],
   "source": [
    "from sklearn.base import TransformerMixin, BaseEstimator\n",
    "\n",
    "class CounterEncoder(TransformerMixin, BaseEstimator):\n",
    "    def fit(self, X, y):\n",
    "        self.map = {name: y[group[group.columns[0]]].mean() for (name, group) in X.groupby(X.columns[0])}\n",
    "        return self\n",
    "    \n",
    "    def transform(self, X):\n",
    "        for name, group in X.groupby(X.columns[0]):\n",
    "            X[group.columns[0]] = self.map[name]\n",
    "        return X\n",
    "    \n",
    "    def fit_transform(self, X, y):\n",
    "        self.fit(X, y)\n",
    "        return self.transform(X)"
   ]
  },
  {
   "cell_type": "code",
   "execution_count": 28,
   "metadata": {
    "scrolled": true
   },
   "outputs": [],
   "source": [
    "counter_transformer = ColumnTransformer([(col, CounterEncoder(), cat_features)], remainder='passthrough')\n",
    "\n",
    "counter_X_train = counter_transformer.fit_transform(X_train, y_train)\n",
    "counter_X_test = counter_transformer.transform(X_test)"
   ]
  },
  {
   "cell_type": "code",
   "execution_count": 29,
   "metadata": {
    "scrolled": true
   },
   "outputs": [
    {
     "name": "stdout",
     "output_type": "stream",
     "text": [
      "Fitting 3 folds for each of 6 candidates, totalling 18 fits\n",
      "[Parallel(n_jobs=4)]: Using backend LokyBackend with 4 concurrent workers.\n",
      "[Parallel(n_jobs=4)]: Done   1 tasks      | elapsed:   47.0s\n",
      "[Parallel(n_jobs=4)]: Done   2 tasks      | elapsed:   47.2s\n",
      "[Parallel(n_jobs=4)]: Done   3 tasks      | elapsed:   47.6s\n",
      "[Parallel(n_jobs=4)]: Done   4 tasks      | elapsed:   50.4s\n",
      "[Parallel(n_jobs=4)]: Done   5 tasks      | elapsed:  1.6min\n",
      "[Parallel(n_jobs=4)]: Done   6 tasks      | elapsed:  1.7min\n",
      "[Parallel(n_jobs=4)]: Done   7 tasks      | elapsed:  1.7min\n",
      "[Parallel(n_jobs=4)]: Done   8 tasks      | elapsed:  1.7min\n",
      "[Parallel(n_jobs=4)]: Done   9 tasks      | elapsed:  2.4min\n",
      "[Parallel(n_jobs=4)]: Done  10 tasks      | elapsed:  2.5min\n",
      "[Parallel(n_jobs=4)]: Done  11 tasks      | elapsed:  2.5min\n",
      "[Parallel(n_jobs=4)]: Done  12 out of  18 | elapsed:  2.5min remaining:  1.2min\n",
      "[Parallel(n_jobs=4)]: Done  13 out of  18 | elapsed:  3.2min remaining:  1.2min\n",
      "[Parallel(n_jobs=4)]: Done  14 out of  18 | elapsed:  3.2min remaining:   55.6s\n",
      "[Parallel(n_jobs=4)]: Done  15 out of  18 | elapsed:  3.3min remaining:   39.0s\n",
      "[Parallel(n_jobs=4)]: Done  16 out of  18 | elapsed:  3.3min remaining:   24.4s\n",
      "[Parallel(n_jobs=4)]: Done  18 out of  18 | elapsed:  3.6min remaining:    0.0s\n",
      "[Parallel(n_jobs=4)]: Done  18 out of  18 | elapsed:  3.6min finished\n",
      "Wall time: 3min 58s\n"
     ]
    }
   ],
   "source": [
    "%%time\n",
    "rs_cb4_cnt = RandomizedSearchCV(CatBoostClassifier(n_estimators=100, verbose=0), {\n",
    "    'max_depth': range(6, 10),\n",
    "    'learning_rate': stats.expon(scale=0.05)\n",
    "}, cv=3, n_iter=6, random_state=0, scoring='average_precision', verbose=50, n_jobs=4)\n",
    "rs_cb4_cnt.fit(counter_X_train, y_train)"
   ]
  },
  {
   "cell_type": "code",
   "execution_count": 30,
   "metadata": {
    "scrolled": true
   },
   "outputs": [
    {
     "name": "stdout",
     "output_type": "stream",
     "text": [
      "Fitting 3 folds for each of 6 candidates, totalling 18 fits\n",
      "[Parallel(n_jobs=4)]: Using backend LokyBackend with 4 concurrent workers.\n",
      "[Parallel(n_jobs=4)]: Done   1 tasks      | elapsed:   17.8s\n",
      "[Parallel(n_jobs=4)]: Done   2 tasks      | elapsed:   19.1s\n",
      "[Parallel(n_jobs=4)]: Done   3 tasks      | elapsed:   19.3s\n",
      "[Parallel(n_jobs=4)]: Done   4 tasks      | elapsed:   19.5s\n",
      "[Parallel(n_jobs=4)]: Done   5 tasks      | elapsed:   35.7s\n",
      "[Parallel(n_jobs=4)]: Done   6 tasks      | elapsed:   36.5s\n",
      "[Parallel(n_jobs=4)]: Done   7 tasks      | elapsed:   38.9s\n",
      "[Parallel(n_jobs=4)]: Done   8 tasks      | elapsed:   38.9s\n",
      "[Parallel(n_jobs=4)]: Done   9 tasks      | elapsed:   54.7s\n",
      "[Parallel(n_jobs=4)]: Done  10 tasks      | elapsed:   56.0s\n",
      "[Parallel(n_jobs=4)]: Done  11 tasks      | elapsed:   58.0s\n",
      "[Parallel(n_jobs=4)]: Done  12 out of  18 | elapsed:   58.2s remaining:   29.1s\n",
      "[Parallel(n_jobs=4)]: Done  13 out of  18 | elapsed:  1.2min remaining:   28.7s\n",
      "[Parallel(n_jobs=4)]: Done  14 out of  18 | elapsed:  1.3min remaining:   21.7s\n",
      "[Parallel(n_jobs=4)]: Done  15 out of  18 | elapsed:  1.3min remaining:   15.3s\n",
      "[Parallel(n_jobs=4)]: Done  16 out of  18 | elapsed:  1.3min remaining:    9.6s\n",
      "[Parallel(n_jobs=4)]: Done  18 out of  18 | elapsed:  1.5min remaining:    0.0s\n",
      "[Parallel(n_jobs=4)]: Done  18 out of  18 | elapsed:  1.5min finished\n",
      "Wall time: 1min 38s\n"
     ]
    }
   ],
   "source": [
    "%%time\n",
    "rs_lgbm4_cnt = RandomizedSearchCV(LGBMClassifier(n_estimators=100, verbose=0), {\n",
    "    'max_depth': range(6, 10),\n",
    "    'learning_rate': stats.expon(scale=0.05)\n",
    "}, cv=3, n_iter=6, random_state=0, scoring='average_precision', verbose=50, n_jobs=4)\n",
    "rs_lgbm4_cnt.fit(counter_X_train, y_train)"
   ]
  },
  {
   "cell_type": "code",
   "execution_count": 31,
   "metadata": {
    "scrolled": true
   },
   "outputs": [
    {
     "name": "stdout",
     "output_type": "stream",
     "text": [
      "Fitting 3 folds for each of 6 candidates, totalling 18 fits\n",
      "[Parallel(n_jobs=4)]: Using backend LokyBackend with 4 concurrent workers.\n",
      "[Parallel(n_jobs=4)]: Done   1 tasks      | elapsed:  2.2min\n",
      "[Parallel(n_jobs=4)]: Done   2 tasks      | elapsed:  2.2min\n",
      "[Parallel(n_jobs=4)]: Done   3 tasks      | elapsed:  2.2min\n",
      "[Parallel(n_jobs=4)]: Done   4 tasks      | elapsed:  2.8min\n",
      "[Parallel(n_jobs=4)]: Done   5 tasks      | elapsed:  4.5min\n",
      "[Parallel(n_jobs=4)]: Done   6 tasks      | elapsed:  5.1min\n",
      "[Parallel(n_jobs=4)]: Done   7 tasks      | elapsed:  5.1min\n",
      "[Parallel(n_jobs=4)]: Done   8 tasks      | elapsed:  5.1min\n",
      "[Parallel(n_jobs=4)]: Done   9 tasks      | elapsed:  6.5min\n",
      "[Parallel(n_jobs=4)]: Done  10 tasks      | elapsed:  7.6min\n",
      "[Parallel(n_jobs=4)]: Done  11 tasks      | elapsed:  7.6min\n",
      "[Parallel(n_jobs=4)]: Done  12 out of  18 | elapsed:  7.6min remaining:  3.8min\n",
      "[Parallel(n_jobs=4)]: Done  13 out of  18 | elapsed:  8.9min remaining:  3.4min\n",
      "[Parallel(n_jobs=4)]: Done  14 out of  18 | elapsed:  9.7min remaining:  2.8min\n",
      "[Parallel(n_jobs=4)]: Done  15 out of  18 | elapsed: 10.0min remaining:  2.0min\n",
      "[Parallel(n_jobs=4)]: Done  16 out of  18 | elapsed: 10.0min remaining:  1.3min\n",
      "[Parallel(n_jobs=4)]: Done  18 out of  18 | elapsed: 10.6min remaining:    0.0s\n",
      "[Parallel(n_jobs=4)]: Done  18 out of  18 | elapsed: 10.6min finished\n",
      "Wall time: 11min 49s\n"
     ]
    }
   ],
   "source": [
    "%%time\n",
    "rs_cb4_def = RandomizedSearchCV(CatBoostClassifier(n_estimators=100, cat_features=cat_features, verbose=0), {\n",
    "    'max_depth': range(6, 10),\n",
    "    'learning_rate': stats.expon(scale=0.05)\n",
    "}, cv=3, n_iter=6, random_state=0, scoring='average_precision', verbose=50, n_jobs=4)\n",
    "rs_cb4_def.fit(X_train, y_train)"
   ]
  },
  {
   "cell_type": "code",
   "execution_count": 37,
   "metadata": {},
   "outputs": [
    {
     "name": "stdout",
     "output_type": "stream",
     "text": [
      "CatBoost on numerical: 0.224\n",
      "CatBoost OHE: 0.233\n",
      "CatBoost counters: 0.230\n",
      "CatBoost default: 0.232\n"
     ]
    }
   ],
   "source": [
    "print('CatBoost on numerical: {:.3f}'.format(average_precision_score(y_test, rs_cb3.predict_proba(X_test[num_features])[:, 1])))\n",
    "print('CatBoost OHE: {:.3f}'.format(average_precision_score(y_test, rs_cb4_ohe.predict_proba(ohe_X_test)[:, 1])))\n",
    "print('CatBoost counters: {:.3f}'.format(average_precision_score(y_test, rs_cb4_cnt.predict_proba(counter_X_test)[:, 1])))\n",
    "print('CatBoost default: {:.3f}'.format(average_precision_score(y_test, rs_cb4_def.predict_proba(X_test)[:, 1])))"
   ]
  },
  {
   "cell_type": "code",
   "execution_count": 38,
   "metadata": {},
   "outputs": [
    {
     "name": "stdout",
     "output_type": "stream",
     "text": [
      "LGBM on numerical: 0.232\n",
      "LGBM OHE: 0.235\n",
      "LGBM counters: 0.235\n"
     ]
    }
   ],
   "source": [
    "print('LGBM on numerical: {:.3f}'.format(average_precision_score(y_test, rs_lgbm3.predict_proba(X_test[num_features])[:, 1])))\n",
    "print('LGBM OHE: {:.3f}'.format(average_precision_score(y_test, rs_lgbm4_ohe.predict_proba(ohe_X_test)[:, 1])))\n",
    "print('LGBM counters: {:.3f}'.format(average_precision_score(y_test, rs_lgbm4_cnt.predict_proba(counter_X_test)[:, 1])))"
   ]
  },
  {
   "cell_type": "markdown",
   "metadata": {},
   "source": [
    "**Ответ:** CatBoost лучше всего справился с One-Hot закодированными данными, вторым и близким к нему вариантом является использование стандартного для него способа обработки категориальных признаков. LightGBM победил в каждом отдельно взятом поединке, с равным результатом для счётчиков и One-Hot кодирования."
   ]
  },
  {
   "cell_type": "markdown",
   "metadata": {},
   "source": [
    "__Задание 5. (1 балл)__\n",
    "\n",
    "Реализуйте блендинг подобранных в предыдущем задании моделей и сравните качество."
   ]
  },
  {
   "cell_type": "code",
   "execution_count": 39,
   "metadata": {},
   "outputs": [
    {
     "name": "stdout",
     "output_type": "stream",
     "text": [
      "Blend model: 0.236\n"
     ]
    }
   ],
   "source": [
    "### ╰( ͡° ͜ʖ ͡° )つ──☆*:・ﾟ\n",
    "print('Blend model: {:.3f}'.format(average_precision_score(y_test, \n",
    "                                                           (rs_cb3.predict_proba(X_test[num_features])[:, 1] + \n",
    "                                                           rs_cb4_ohe.predict_proba(ohe_X_test)[:, 1] + \n",
    "                                                           rs_cb4_cnt.predict_proba(counter_X_test)[:, 1] + \n",
    "                                                           rs_cb4_def.predict_proba(X_test)[:, 1] + \n",
    "                                                           rs_lgbm3.predict_proba(X_test[num_features])[:, 1] +\n",
    "                                                           rs_lgbm4_ohe.predict_proba(ohe_X_test)[:, 1] +\n",
    "                                                           rs_lgbm4_cnt.predict_proba(counter_X_test)[:, 1])/7\n",
    "                                                          )))"
   ]
  },
  {
   "cell_type": "markdown",
   "metadata": {},
   "source": [
    "**Ответ:** Я собирался сравнить со средним качеством всех моделей, но получилось так, что блендинг побеждает абсолютно каждую изначальную модель... Интересно, ведь это даже без настройки весов, а просто среднее. Я попытался настроить веса получше после выполнения всей работы, но два классификатора уже испорчены последним заданием."
   ]
  },
  {
   "cell_type": "markdown",
   "metadata": {},
   "source": [
    "__Задание 6. (1.5 балла)__\n",
    "\n",
    "В задании 3 вы подобрали гиперпараметры для LightGBM и CatBoost на вещественных признаках. Визуализируйте важности признаков, посчитанные этими алгоритмами, в виде горизонтального bar-plot (отсортируйте признаки по убыванию важности, подпишите названия признаков по оси y).\n",
    "\n",
    "Для каждого из двух алгоритмов удалите неважные признаки (обычно по bar-plot хорошо видно порог на важность, с которого начинается хвост неважных признаков) и обучите ту же модель на получившихся данных. Сильно ли упало качество при удалении признаков, которые модель считает неважными?"
   ]
  },
  {
   "cell_type": "code",
   "execution_count": 42,
   "metadata": {},
   "outputs": [],
   "source": [
    "### ╰( ͡° ͜ʖ ͡° )つ──☆*:・ﾟ\n",
    "import numpy as np\n",
    "import matplotlib.pyplot as plt"
   ]
  },
  {
   "cell_type": "code",
   "execution_count": 53,
   "metadata": {},
   "outputs": [
    {
     "data": {
      "image/png": "[encoded data removed]",
      "text/plain": [
       "<Figure size 1584x504 with 1 Axes>"
      ]
     },
     "metadata": {
      "needs_background": "light"
     },
     "output_type": "display_data"
    }
   ],
   "source": [
    "cb_feature_importances = np.argsort(rs_cb3.best_estimator_.feature_importances_)[::-1]\n",
    "plt.figure(figsize=(22, 7))\n",
    "plt.title('CatBoost feature importances', fontsize=18)\n",
    "plt.bar(np.arange(len(num_features)), rs_cb3.best_estimator_.feature_importances_[cb_feature_importances])\n",
    "plt.xticks(np.arange(len(num_features)), np.array(num_features)[cb_feature_importances], rotation=90)\n",
    "plt.grid()\n",
    "plt.show()"
   ]
  },
  {
   "cell_type": "code",
   "execution_count": 57,
   "metadata": {},
   "outputs": [
    {
     "data": {
      "text/plain": [
       "1.0642113174266454"
      ]
     },
     "execution_count": 57,
     "metadata": {},
     "output_type": "execute_result"
    }
   ],
   "source": [
    "rs_cb3.best_estimator_.feature_importances_[cb_feature_importances][12]"
   ]
  },
  {
   "cell_type": "code",
   "execution_count": 58,
   "metadata": {},
   "outputs": [
    {
     "data": {
      "image/png": "[encoded data removed]",
      "text/plain": [
       "<Figure size 1584x504 with 1 Axes>"
      ]
     },
     "metadata": {
      "needs_background": "light"
     },
     "output_type": "display_data"
    }
   ],
   "source": [
    "lgbm_feature_importances = np.argsort(rs_lgbm3.best_estimator_.feature_importances_)[::-1]\n",
    "plt.figure(figsize=(22, 7))\n",
    "plt.title('LGBM feature importances', fontsize=18)\n",
    "plt.bar(np.arange(len(num_features)), rs_lgbm3.best_estimator_.feature_importances_[lgbm_feature_importances])\n",
    "plt.xticks(np.arange(len(num_features)), np.array(num_features)[lgbm_feature_importances], rotation=90)\n",
    "plt.grid()\n",
    "plt.show()"
   ]
  },
  {
   "cell_type": "code",
   "execution_count": 59,
   "metadata": {},
   "outputs": [
    {
     "data": {
      "text/plain": [
       "25"
      ]
     },
     "execution_count": 59,
     "metadata": {},
     "output_type": "execute_result"
    }
   ],
   "source": [
    "rs_lgbm3.best_estimator_.feature_importances_[lgbm_feature_importances][18]"
   ]
  },
  {
   "cell_type": "code",
   "execution_count": 61,
   "metadata": {},
   "outputs": [],
   "source": [
    "cb_imp_features = np.array(num_features)[rs_cb3.best_estimator_.feature_importances_ > 1.065]\n",
    "lgbm_imp_features = np.array(num_features)[rs_lgbm3.best_estimator_.feature_importances_ > 25]"
   ]
  },
  {
   "cell_type": "code",
   "execution_count": 66,
   "metadata": {},
   "outputs": [
    {
     "data": {
      "text/plain": [
       "<catboost.core.CatBoostClassifier at 0x1d688a37b70>"
      ]
     },
     "execution_count": 66,
     "metadata": {},
     "output_type": "execute_result"
    }
   ],
   "source": [
    "rs_cb3.best_estimator_.fit(X_train[num_features][cb_imp_features], y_train)"
   ]
  },
  {
   "cell_type": "code",
   "execution_count": 68,
   "metadata": {},
   "outputs": [
    {
     "data": {
      "text/plain": [
       "LGBMClassifier(boosting_type='gbdt', class_weight=None, colsample_bytree=1.0,\n",
       "        importance_type='split', learning_rate=0.09298021204559256,\n",
       "        max_depth=7, min_child_samples=20, min_child_weight=0.001,\n",
       "        min_split_gain=0.0, n_estimators=100, n_jobs=-1, num_leaves=31,\n",
       "        objective=None, random_state=None, reg_alpha=0.0, reg_lambda=0.0,\n",
       "        silent=True, subsample=1.0, subsample_for_bin=200000,\n",
       "        subsample_freq=0, verbose=0)"
      ]
     },
     "execution_count": 68,
     "metadata": {},
     "output_type": "execute_result"
    }
   ],
   "source": [
    "rs_lgbm3.best_estimator_.fit(X_train[num_features][lgbm_imp_features], y_train)"
   ]
  },
  {
   "cell_type": "code",
   "execution_count": 69,
   "metadata": {},
   "outputs": [
    {
     "name": "stdout",
     "output_type": "stream",
     "text": [
      "CatBoost on important numerical features: 0.222\n"
     ]
    }
   ],
   "source": [
    "print('CatBoost on important numerical features: {:.3f}'.\n",
    "      format(average_precision_score(y_test, rs_cb3.predict_proba(X_test[num_features][cb_imp_features])[:, 1])))"
   ]
  },
  {
   "cell_type": "code",
   "execution_count": 70,
   "metadata": {},
   "outputs": [
    {
     "name": "stdout",
     "output_type": "stream",
     "text": [
      "LGBM on important numerical features: 0.228\n"
     ]
    }
   ],
   "source": [
    "print('LGBM on important numerical features: {:.3f}'.\n",
    "      format(average_precision_score(y_test, rs_lgbm3.predict_proba(X_test[num_features][lgbm_imp_features])[:, 1])))"
   ]
  },
  {
   "cell_type": "markdown",
   "metadata": {},
   "source": [
    "**Ответ:** CatBoost потерял 0.002 средней точности, LGBM - 0.004. Сложно оценить, насколько это существенно, потому что точности всех моделей в этой работе находятся в примерно одном диапазоне. Можно сказать, что падение несильное при значительном выигрыше времени работы."
   ]
  }
 ],
 "metadata": {
  "kernelspec": {
   "display_name": "Python 3",
   "language": "python",
   "name": "python3"
  },
  "language_info": {
   "codemirror_mode": {
    "name": "ipython",
    "version": 3
   },
   "file_extension": ".py",
   "mimetype": "text/x-python",
   "name": "python",
   "nbconvert_exporter": "python",
   "pygments_lexer": "ipython3",
   "version": "3.6.8"
  }
 },
 "nbformat": 4,
 "nbformat_minor": 2
}
